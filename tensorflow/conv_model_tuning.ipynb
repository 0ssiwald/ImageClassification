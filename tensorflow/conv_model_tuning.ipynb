{
 "cells": [
  {
   "cell_type": "code",
   "execution_count": 1,
   "metadata": {},
   "outputs": [
    {
     "name": "stderr",
     "output_type": "stream",
     "text": [
      "C:\\Users\\oswal\\AppData\\Local\\Temp\\ipykernel_18776\\1951207503.py:15: DeprecationWarning: `import kerastuner` is deprecated, please use `import keras_tuner`.\n",
      "  from kerastuner.tuners import RandomSearch\n"
     ]
    }
   ],
   "source": [
    "# https://colab.research.google.com/drive/1ZZXnCjFEOkp_KdNcNabd14yok0BAIuwS#forceEdit=true&sandboxMode=true&scrollTo=wdPxFvHdTLRK\n",
    "\n",
    "import tensorflow as tf\n",
    "\n",
    "from tensorflow import keras\n",
    "from keras import datasets, layers, models, optimizers \n",
    "import matplotlib.pyplot as plt\n",
    "import numpy as np\n",
    "import os\n",
    "import glob\n",
    "import pandas as pd\n",
    "from PIL import Image\n",
    "from log_training import TrainingLogger\n",
    "\n",
    "from kerastuner.tuners import RandomSearch\n",
    "import shutil\n",
    "import gc"
   ]
  },
  {
   "cell_type": "code",
   "execution_count": 3,
   "metadata": {},
   "outputs": [],
   "source": [
    "#  LOAD AND SPLIT DATASET\n",
    "path_train = r'C:\\Users\\oswal\\Desktop\\ImageClassification\\elpv-dataset\\train_with_bad_images\\**\\*'\n",
    "path_test = r'C:\\Users\\oswal\\Desktop\\ImageClassification\\elpv-dataset\\test_images\\**\\*'\n",
    "\n",
    "# Prepare image data \n",
    "def img_to_np(path, resize = True, extract_labels=False):  \n",
    "    img_array = []\n",
    "    labels = []\n",
    "    fpaths = glob.glob(path, recursive=True)\n",
    "    for fname in fpaths:\n",
    "        if(extract_labels): \n",
    "            if '_bad' in os.path.basename(fname):\n",
    "                labels.append(1)  # 1 for outlier\n",
    "            else:\n",
    "                labels.append(0)  # 0 for non-outlier\n",
    "        img = Image.open(fname).convert(\"L\") # Grayscale when using \"RGB\" you have to change the encoder and decoder \n",
    "        if(resize): img = img.resize((64,64))\n",
    "        img_array.append(np.asarray(img))\n",
    "    images = np.array(img_array)\n",
    "    if(extract_labels): return images, np.array(labels)\n",
    "    return images\n",
    "\n",
    "test_images, test_labels = img_to_np(path_test, extract_labels=True)\n",
    "train_images, train_labels = img_to_np(path_train, extract_labels=True)\n",
    "\n",
    "# Normalize pixel values to be between 0 and 1\n",
    "train_images, test_images = train_images / 255.0, test_images / 255.0"
   ]
  },
  {
   "cell_type": "code",
   "execution_count": 6,
   "metadata": {},
   "outputs": [
    {
     "name": "stdout",
     "output_type": "stream",
     "text": [
      "Trial 5 Complete [00h 00m 03s]\n",
      "val_accuracy: 0.663690447807312\n",
      "\n",
      "Best val_accuracy So Far: 0.663690447807312\n",
      "Total elapsed time: 00h 01m 00s\n"
     ]
    }
   ],
   "source": [
    "def build_model(hp):\n",
    "    model = models.Sequential()\n",
    "    model.add(layers.Conv2D(hp.Int('conv_1_filters', min_value=32, max_value=128, step=32), (3, 3), \n",
    "                            activation='relu', input_shape=(64, 64, 1)))\n",
    "    model.add(layers.MaxPooling2D((2, 2)))\n",
    "    for i in range(hp.Int('num_conv_layers', 1, 3)):\n",
    "        model.add(layers.Conv2D(hp.Int(f'conv_{i+2}_filters', min_value=32, max_value=128, step=32), (3, 3), activation='relu'))\n",
    "        model.add(layers.MaxPooling2D((2, 2)))\n",
    "    model.add(layers.Flatten())\n",
    "    model.add(layers.Dense(hp.Int('dense_units', min_value=64, max_value=256, step=64), activation='relu'))\n",
    "    model.add(layers.Dense(2))\n",
    "\n",
    "    model.compile(optimizer=optimizers.Adam(learning_rate=hp.Choice('learning_rate', values=[1e-2, 1e-3, 1e-4])),\n",
    "                  loss=tf.keras.losses.SparseCategoricalCrossentropy(from_logits=True), \n",
    "                  metrics=['accuracy'])\n",
    "    \n",
    "    return model\n",
    "\n",
    "tuner = RandomSearch(build_model, \n",
    "                     objective='val_accuracy', \n",
    "                     max_trials=5, \n",
    "                     executions_per_trial=1, \n",
    "                     directory='my_dir', \n",
    "                     project_name='cnn_tuning')\n",
    "\n",
    "tuner.search(train_images, train_labels, epochs=10, validation_data=(test_images, test_labels))\n",
    "\n",
    "\n",
    "# Instantiate the logger\n",
    "logger = TrainingLogger(epochs=10, learning_rate=0.001, batch_size=32, optimizer='adam')\n",
    "# Log each trial data\n",
    "for trial in tuner.oracle.get_best_trials(num_trials=len(tuner.oracle.trials)):\n",
    "    logger.log_trial(trial)\n",
    "\n",
    "best_model = tuner.get_best_models(num_models=1)[0]"
   ]
  },
  {
   "cell_type": "code",
   "execution_count": 7,
   "metadata": {},
   "outputs": [
    {
     "name": "stdout",
     "output_type": "stream",
     "text": [
      "\n",
      "\"epochs\": 10,\n",
      "\"learning_rate\": 0.001,\n",
      "\"batch_size\": 32,\n",
      "\"optimizer\": adam,\n",
      "\"train_accuracy\": None,\n",
      "\"train_val_accuracy\": None,\n",
      "\"train_loss\": None,\n",
      "\"train_val_loss\": None,\n",
      "\"test_accuracy\": None,\n",
      "\"test_loss\": None,\n",
      "\"timestamp\": 2024-08-28 17:05:40, \n",
      "\"model_summary\": None,\n",
      "\"trials_data\": \n",
      "{'trial_id': '4', 'hyperparameters': {'conv_1_filters': 32, 'num_conv_layers': 2, 'conv_2_filters': 64, 'dense_units': 192, 'learning_rate': 0.001, 'conv_3_filters': 64, 'conv_4_filters': 64}, 'score': 0.663690447807312, 'best_step': 8} \n",
      "{'trial_id': '3', 'hyperparameters': {'conv_1_filters': 128, 'num_conv_layers': 1, 'conv_2_filters': 96, 'dense_units': 192, 'learning_rate': 0.001, 'conv_3_filters': 128, 'conv_4_filters': 64}, 'score': 0.6607142686843872, 'best_step': 9} \n",
      "{'trial_id': '2', 'hyperparameters': {'conv_1_filters': 32, 'num_conv_layers': 3, 'conv_2_filters': 64, 'dense_units': 256, 'learning_rate': 0.01, 'conv_3_filters': 64, 'conv_4_filters': 32}, 'score': 0.5178571343421936, 'best_step': 0} \n",
      "{'trial_id': '1', 'hyperparameters': {'conv_1_filters': 32, 'num_conv_layers': 1, 'conv_2_filters': 128, 'dense_units': 64, 'learning_rate': 0.0001, 'conv_3_filters': 32}, 'score': None, 'best_step': 0} \n",
      "{'trial_id': '0', 'hyperparameters': {'conv_1_filters': 96, 'num_conv_layers': 2, 'conv_2_filters': 96, 'dense_units': 64, 'learning_rate': 0.001, 'conv_3_filters': 32}, 'score': None, 'best_step': 0} \n",
      "{'trial_id': '4', 'hyperparameters': {'conv_1_filters': 32, 'num_conv_layers': 2, 'conv_2_filters': 64, 'dense_units': 192, 'learning_rate': 0.001, 'conv_3_filters': 64, 'conv_4_filters': 64}, 'score': 0.663690447807312, 'best_step': 8} \n",
      "{'trial_id': '3', 'hyperparameters': {'conv_1_filters': 128, 'num_conv_layers': 1, 'conv_2_filters': 96, 'dense_units': 192, 'learning_rate': 0.001, 'conv_3_filters': 128, 'conv_4_filters': 64}, 'score': 0.6607142686843872, 'best_step': 9} \n",
      "{'trial_id': '2', 'hyperparameters': {'conv_1_filters': 32, 'num_conv_layers': 3, 'conv_2_filters': 64, 'dense_units': 256, 'learning_rate': 0.01, 'conv_3_filters': 64, 'conv_4_filters': 32}, 'score': 0.5178571343421936, 'best_step': 0} \n",
      "{'trial_id': '1', 'hyperparameters': {'conv_1_filters': 32, 'num_conv_layers': 1, 'conv_2_filters': 128, 'dense_units': 64, 'learning_rate': 0.0001, 'conv_3_filters': 32}, 'score': None, 'best_step': 0} \n",
      "{'trial_id': '0', 'hyperparameters': {'conv_1_filters': 96, 'num_conv_layers': 2, 'conv_2_filters': 96, 'dense_units': 64, 'learning_rate': 0.001, 'conv_3_filters': 32}, 'score': None, 'best_step': 0} \n",
      "\n",
      "\n"
     ]
    }
   ],
   "source": [
    "# Create and save trial log\n",
    "for trial in tuner.oracle.get_best_trials(num_trials=len(tuner.oracle.trials)):\n",
    "    logger.log_trial(trial)\n",
    "logger.print_and_save_log()"
   ]
  },
  {
   "cell_type": "code",
   "execution_count": 8,
   "metadata": {},
   "outputs": [],
   "source": [
    "# Optionally, delete the tuning directory to save space\n",
    "shutil.rmtree('my_dir')"
   ]
  }
 ],
 "metadata": {
  "kernelspec": {
   "display_name": "py310",
   "language": "python",
   "name": "python3"
  },
  "language_info": {
   "codemirror_mode": {
    "name": "ipython",
    "version": 3
   },
   "file_extension": ".py",
   "mimetype": "text/x-python",
   "name": "python",
   "nbconvert_exporter": "python",
   "pygments_lexer": "ipython3",
   "version": "3.10.14"
  }
 },
 "nbformat": 4,
 "nbformat_minor": 2
}
