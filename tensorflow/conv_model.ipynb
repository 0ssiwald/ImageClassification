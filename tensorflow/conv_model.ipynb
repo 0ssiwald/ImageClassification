{
 "cells": [
  {
   "cell_type": "code",
   "execution_count": 21,
   "metadata": {},
   "outputs": [],
   "source": [
    "# https://colab.research.google.com/drive/1ZZXnCjFEOkp_KdNcNabd14yok0BAIuwS#forceEdit=true&sandboxMode=true&scrollTo=wdPxFvHdTLRK\n",
    "\n",
    "import tensorflow as tf\n",
    "\n",
    "from tensorflow.keras import datasets, layers, models\n",
    "import matplotlib.pyplot as plt\n",
    "import numpy as np\n",
    "import os\n",
    "import glob\n",
    "import pandas as pd\n",
    "from PIL import Image"
   ]
  },
  {
   "cell_type": "code",
   "execution_count": 33,
   "metadata": {},
   "outputs": [
    {
     "data": {
      "image/png": "[encoded data removed]",
      "text/plain": [
       "<Figure size 640x480 with 1 Axes>"
      ]
     },
     "metadata": {},
     "output_type": "display_data"
    }
   ],
   "source": [
    "#  LOAD AND SPLIT DATASET\n",
    "path_train = r'C:\\Users\\Ossi\\Desktop\\ImageClassification\\elpv-dataset\\train_with_bad_images\\**\\*'\n",
    "path_test = r'C:\\Users\\Ossi\\Desktop\\ImageClassification\\elpv-dataset\\test_images\\**\\*'\n",
    "\n",
    "# Prepare image data \n",
    "def img_to_np(path, resize = True, extract_labels=False):  \n",
    "    img_array = []\n",
    "    labels = []\n",
    "    fpaths = glob.glob(path, recursive=True)\n",
    "    for fname in fpaths:\n",
    "        if(extract_labels): \n",
    "            if '_bad' in os.path.basename(fname):\n",
    "                labels.append(1)  # 1 for outlier\n",
    "            else:\n",
    "                labels.append(0)  # 0 for non-outlier\n",
    "        img = Image.open(fname).convert(\"L\") # Grayscale when using \"RGB\" you have to change the encoder and decoder \n",
    "        if(resize): img = img.resize((64,64))\n",
    "        img_array.append(np.asarray(img))\n",
    "    images = np.array(img_array)\n",
    "    if(extract_labels): return images, np.array(labels)\n",
    "    return images\n",
    "\n",
    "test_images, test_labels = img_to_np(path_test, extract_labels=True)\n",
    "train_images, train_labels = img_to_np(path_train, extract_labels=True)\n",
    "\n",
    "# Normalize pixel values to be between 0 and 1\n",
    "train_images, test_images = train_images / 255.0, test_images / 255.0\n",
    "\n",
    "class_names = ['good', 'bad']\n",
    "\n",
    "# Let's look at a one image\n",
    "IMG_INDEX = 7  # change this to look at other images\n",
    "\n",
    "plt.imshow(train_images[IMG_INDEX] ,cmap=plt.cm.binary)\n",
    "plt.xlabel(class_names[train_labels[IMG_INDEX]])\n",
    "#plt.show() # uncomment for prview of image\n"
   ]
  },
  {
   "cell_type": "code",
   "execution_count": 49,
   "metadata": {},
   "outputs": [],
   "source": [
    "# building the Convolutional Base\n",
    "model = models.Sequential()\n",
    "#  32, 32, 3 means we will process 32 filters of size 3x3 | imput shape 64, 64, 1 means 64x64 pixels with one chanell for RGB change to 3\n",
    "model.add(layers.Conv2D(32, (3, 3), activation='relu', input_shape=(64, 64, 1)))\n",
    "# pooling layses to downsample our feature maps and reduce their dimensions\n",
    "model.add(layers.MaxPooling2D((2, 2)))\n",
    "model.add(layers.Conv2D(64, (3, 3), activation='relu'))\n",
    "model.add(layers.MaxPooling2D((2, 2)))\n",
    "model.add(layers.Conv2D(64, (3, 3), activation='relu'))\n",
    "\n",
    "# Add dense layers to classify into two classes true false \n",
    "model.add(layers.Flatten())\n",
    "model.add(layers.Dense(64, activation='relu'))\n",
    "model.add(layers.Dense(2))\n",
    "\n",
    "#model.summary()"
   ]
  },
  {
   "cell_type": "code",
   "execution_count": 55,
   "metadata": {},
   "outputs": [
    {
     "name": "stdout",
     "output_type": "stream",
     "text": [
      "Epoch 1/10\n",
      "60/60 [==============================] - 1s 7ms/step - loss: 0.5436 - accuracy: 0.7136 - val_loss: 0.6730 - val_accuracy: 0.6161\n",
      "Epoch 2/10\n",
      "60/60 [==============================] - 0s 5ms/step - loss: 0.5287 - accuracy: 0.7131 - val_loss: 0.6510 - val_accuracy: 0.6518\n",
      "Epoch 3/10\n",
      "60/60 [==============================] - 0s 5ms/step - loss: 0.5100 - accuracy: 0.7342 - val_loss: 0.6168 - val_accuracy: 0.6488\n",
      "Epoch 4/10\n",
      "60/60 [==============================] - 0s 5ms/step - loss: 0.5079 - accuracy: 0.7363 - val_loss: 0.6349 - val_accuracy: 0.6667\n",
      "Epoch 5/10\n",
      "60/60 [==============================] - 0s 5ms/step - loss: 0.5069 - accuracy: 0.7363 - val_loss: 0.6219 - val_accuracy: 0.6548\n",
      "Epoch 6/10\n",
      "60/60 [==============================] - 0s 5ms/step - loss: 0.4950 - accuracy: 0.7358 - val_loss: 0.6599 - val_accuracy: 0.6339\n",
      "Epoch 7/10\n",
      "60/60 [==============================] - 0s 5ms/step - loss: 0.4916 - accuracy: 0.7453 - val_loss: 0.7058 - val_accuracy: 0.6577\n",
      "Epoch 8/10\n",
      "60/60 [==============================] - 0s 5ms/step - loss: 0.4763 - accuracy: 0.7600 - val_loss: 0.6263 - val_accuracy: 0.6696\n",
      "Epoch 9/10\n",
      "60/60 [==============================] - 0s 5ms/step - loss: 0.4616 - accuracy: 0.7669 - val_loss: 0.6687 - val_accuracy: 0.6726\n",
      "Epoch 10/10\n",
      "60/60 [==============================] - 0s 5ms/step - loss: 0.4509 - accuracy: 0.7722 - val_loss: 0.6121 - val_accuracy: 0.6786\n"
     ]
    }
   ],
   "source": [
    "model.compile(optimizer='adam',\n",
    "              loss=tf.keras.losses.SparseCategoricalCrossentropy(from_logits=True),\n",
    "              metrics=['accuracy'])\n",
    "\n",
    "history = model.fit(train_images, train_labels, epochs=10, \n",
    "                    validation_data=(test_images, test_labels))"
   ]
  },
  {
   "cell_type": "code",
   "execution_count": 56,
   "metadata": {},
   "outputs": [
    {
     "name": "stdout",
     "output_type": "stream",
     "text": [
      "11/11 - 0s - loss: 0.6121 - accuracy: 0.6786 - 33ms/epoch - 3ms/step\n",
      "0.6785714030265808\n"
     ]
    }
   ],
   "source": [
    "# Evaluating the Model\n",
    "test_loss, test_acc = model.evaluate(test_images,  test_labels, verbose=2)\n",
    "print(test_acc)"
   ]
  }
 ],
 "metadata": {
  "kernelspec": {
   "display_name": "py310",
   "language": "python",
   "name": "python3"
  },
  "language_info": {
   "codemirror_mode": {
    "name": "ipython",
    "version": 3
   },
   "file_extension": ".py",
   "mimetype": "text/x-python",
   "name": "python",
   "nbconvert_exporter": "python",
   "pygments_lexer": "ipython3",
   "version": "3.10.14"
  }
 },
 "nbformat": 4,
 "nbformat_minor": 2
}
